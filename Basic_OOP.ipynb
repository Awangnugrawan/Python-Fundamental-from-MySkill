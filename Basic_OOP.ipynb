{
  "nbformat": 4,
  "nbformat_minor": 0,
  "metadata": {
    "colab": {
      "provenance": [],
      "toc_visible": true,
      "include_colab_link": true
    },
    "kernelspec": {
      "name": "python3",
      "display_name": "Python 3"
    },
    "language_info": {
      "name": "python"
    }
  },
  "cells": [
    {
      "cell_type": "markdown",
      "metadata": {
        "id": "view-in-github",
        "colab_type": "text"
      },
      "source": [
        "<a href=\"https://colab.research.google.com/github/Awangnugrawan/Python-Fundamental-from-MySkill/blob/main/Basic_OOP.ipynb\" target=\"_parent\"><img src=\"https://colab.research.google.com/assets/colab-badge.svg\" alt=\"Open In Colab\"/></a>"
      ]
    },
    {
      "cell_type": "markdown",
      "source": [
        "# Class"
      ],
      "metadata": {
        "id": "BHDM2vqze-dD"
      }
    },
    {
      "cell_type": "markdown",
      "source": [
        "- class dibuat dengan keyword class.\n",
        "- Atribut adalah variabel yang dimiliki oleh sebuah kelas.\n",
        "- Atribut selalu bersifat publik dan dapat diakses menggunakan operator titik (.). Mis.: Myclass.Myattribute"
      ],
      "metadata": {
        "id": "sKTnXHvAfA4y"
      }
    },
    {
      "cell_type": "code",
      "execution_count": null,
      "metadata": {
        "id": "QGaXghb7cwhu"
      },
      "outputs": [],
      "source": [
        "class ClassName:\n",
        "   # Statement-1\n",
        "   \n",
        "   # Statement-N"
      ]
    },
    {
      "cell_type": "code",
      "source": [
        "# Pendefinisian class\n",
        "class Dog:\n",
        "\tpass\n"
      ],
      "metadata": {
        "id": "IOn9NVRUfWMr"
      },
      "execution_count": null,
      "outputs": []
    },
    {
      "cell_type": "markdown",
      "source": [
        "# Object"
      ],
      "metadata": {
        "id": "v19RpbvUhV-Z"
      }
    },
    {
      "cell_type": "code",
      "source": [
        "obj = Dog()"
      ],
      "metadata": {
        "id": "uiOmhfQyfWea"
      },
      "execution_count": null,
      "outputs": []
    },
    {
      "cell_type": "markdown",
      "source": [
        "Ini akan membuat objek bernama obj dari kelas Dog yang didefinisikan di atas. Sebelum menyelam jauh ke dalam objek dan kelas, mari kita pahami beberapa kata kunci dasar yang akan kita gunakan saat bekerja dengan objek dan kelas."
      ],
      "metadata": {
        "id": "MD1ZEWwBmk6h"
      }
    },
    {
      "cell_type": "markdown",
      "source": [
        "self in class\n",
        "\n",
        "1. Metode kelas harus memiliki parameter tambahan pertama dalam definisi metode. Kita tidak memberikan nilai untuk parameter ini saat kita memanggil metode, Python menyediakannya\n",
        "2. Jika kita memiliki metode yang tidak membutuhkan argumen, maka kita masih harus memiliki satu argumen.\n",
        "3. Ini mirip dengan pointer ini di C++ dan referensi ini di Java.\n",
        "Ketika kita memanggil metode objek ini sebagai myobject.method(arg1, arg2), ini secara otomatis diubah oleh Python menjadi MyClass.method(myobject, arg1, arg2)."
      ],
      "metadata": {
        "id": "cL9H4TiBmvZ7"
      }
    },
    {
      "cell_type": "markdown",
      "source": [
        "Metode __init__\n",
        "\n",
        "Metode __init__ mirip dengan konstruktor di C++ dan Java. Ini dijalankan segera setelah objek kelas dipakai. Metode ini berguna untuk melakukan inisialisasi apa pun yang ingin kita lakukan dengan objek kita."
      ],
      "metadata": {
        "id": "GbniuyZPnJ2d"
      }
    },
    {
      "cell_type": "markdown",
      "source": [
        "Contoh 1 : Membuat kelas dan objek dengan atribut kelas dan instance"
      ],
      "metadata": {
        "id": "P51mqvNInahp"
      }
    },
    {
      "cell_type": "code",
      "source": [
        "class Dog:\n",
        "\n",
        "\t# class attribute\n",
        "\tattr1 = \"mammal\"\n",
        "\n",
        "\t# Instance attribute\n",
        "\tdef __init__(self, name):\n",
        "\t\tself.name = name\n",
        "\n",
        "# Driver code\n",
        "# Object instantiation\n",
        "Rodger = Dog(\"Rodger\")\n",
        "Tommy = Dog(\"Tommy\")\n",
        "\n",
        "# Accessing class attributes\n",
        "print(\"Rodger is a {}\".format(Rodger.__class__.attr1))\n",
        "print(\"Tommy is also a {}\".format(Tommy.__class__.attr1))\n",
        "\n",
        "# Accessing instance attributes\n",
        "print(\"My name is {}\".format(Rodger.name))\n",
        "print(\"My name is {}\".format(Tommy.name))\n"
      ],
      "metadata": {
        "colab": {
          "base_uri": "https://localhost:8080/"
        },
        "id": "u78AJFYThYr1",
        "outputId": "e4d4a967-13f9-4989-a8ae-17e7bd43f52f"
      },
      "execution_count": null,
      "outputs": [
        {
          "output_type": "stream",
          "name": "stdout",
          "text": [
            "Rodger is a mammal\n",
            "Tommy is also a mammal\n",
            "My name is Rodger\n",
            "My name is Tommy\n"
          ]
        }
      ]
    },
    {
      "cell_type": "markdown",
      "source": [
        "Contoh 2: Membuat Kelas dan objek dengan metode"
      ],
      "metadata": {
        "id": "Pu8uIYgondTu"
      }
    },
    {
      "cell_type": "code",
      "source": [
        "class Dog:\n",
        " \n",
        "    # class attribute\n",
        "    attr1 = \"mammal\"\n",
        " \n",
        "    # Instance attribute\n",
        "    def __init__(self, name):\n",
        "        self.name = name\n",
        "         \n",
        "    def speak(self):\n",
        "        print(\"My name is {}\".format(self.name))\n",
        " \n",
        "# Driver code\n",
        "# Object instantiation\n",
        "Rodger = Dog(\"Rodger\")\n",
        "Tommy = Dog(\"Tommy\")\n",
        " \n",
        "# Accessing class methods\n",
        "Rodger.speak()\n",
        "Tommy.speak()"
      ],
      "metadata": {
        "id": "rtg6vaqknV3v",
        "colab": {
          "base_uri": "https://localhost:8080/"
        },
        "outputId": "5e996b8b-9407-4feb-a29f-82964f15515f"
      },
      "execution_count": null,
      "outputs": [
        {
          "output_type": "stream",
          "name": "stdout",
          "text": [
            "My name is Rodger\n",
            "My name is Tommy\n"
          ]
        }
      ]
    },
    {
      "cell_type": "markdown",
      "source": [
        "# Inheritance (pewarisan)"
      ],
      "metadata": {
        "id": "e7fbfbLhoTBX"
      }
    },
    {
      "cell_type": "code",
      "source": [
        "# parent class\n",
        "class Person(object):\n",
        "\n",
        "\t# __init__ is known as the constructor\n",
        "\tdef __init__(self, name, idnumber):\n",
        "\t\tself.name = name\n",
        "\t\tself.idnumber = idnumber\n",
        "\n",
        "\tdef display(self):\n",
        "\t\tprint(self.name)\n",
        "\t\tprint(self.idnumber)\n",
        "\t\t\n",
        "\tdef details(self):\n",
        "\t\tprint(\"My name is {}\".format(self.name))\n",
        "\t\tprint(\"IdNumber: {}\".format(self.idnumber))\n",
        "\t\n",
        "# child class\n",
        "class Employee(Person):\n",
        "\tdef __init__(self, name, idnumber, salary, post):\n",
        "\t\tself.salary = salary\n",
        "\t\tself.post = post\n",
        "\n",
        "\t\t# invoking the __init__ of the parent class\n",
        "\t\tPerson.__init__(self, name, idnumber)\n",
        "\t\t\n",
        "\tdef details(self):\n",
        "\t\tprint(\"My name is {}\".format(self.name))\n",
        "\t\tprint(\"IdNumber: {}\".format(self.idnumber))\n",
        "\t\tprint(\"Post: {}\".format(self.post))\n",
        "\n",
        "\n",
        "# creation of an object variable or an instance\n",
        "a = Employee('Faras', 30348234, 5000000, \"Tutor MySkill\")\n",
        "\n",
        "# calling a function of the class Person using\n",
        "# its instance\n",
        "a.display()\n",
        "a.details()\n"
      ],
      "metadata": {
        "colab": {
          "base_uri": "https://localhost:8080/"
        },
        "id": "D6LtiFX5oVB2",
        "outputId": "141e8555-d217-4cff-945a-f2e0b084c56c"
      },
      "execution_count": null,
      "outputs": [
        {
          "output_type": "stream",
          "name": "stdout",
          "text": [
            "Faras\n",
            "30348234\n",
            "My name is Faras\n",
            "IdNumber: 30348234\n",
            "Post: Tutor MySkill\n"
          ]
        }
      ]
    },
    {
      "cell_type": "markdown",
      "source": [
        "# Polymorphism"
      ],
      "metadata": {
        "id": "UDAS7kquu59K"
      }
    },
    {
      "cell_type": "code",
      "source": [
        "class Bird:\n",
        "\n",
        "\tdef intro(self):\n",
        "\t\tprint(\"Ada banyak jenis burung.\")\n",
        "\n",
        "\tdef flight(self):\n",
        "\t\tprint(\"Sebagian besar burung bisa terbang, sebagian kecil tidak.\")\n",
        "\n",
        "class sparrow(Bird):\n",
        "\n",
        "\tdef flight(self):\n",
        "\t\tprint(\"Burung Kakak Tua bisa terbang.\")\n",
        "\n",
        "class ostrich(Bird):\n",
        "\n",
        "\tdef flight(self):\n",
        "\t\tprint(\"Burung Unta tidak bisa terbang.\")\n",
        "\n",
        "obj_bird = Bird()\n",
        "obj_spr = sparrow()\n",
        "obj_ost = ostrich()\n",
        "\n",
        "obj_bird.intro()\n",
        "obj_bird.flight()\n",
        "\n",
        "obj_spr.intro()\n",
        "obj_spr.flight()\n",
        "\n",
        "obj_ost.intro()\n",
        "obj_ost.flight()\n"
      ],
      "metadata": {
        "colab": {
          "base_uri": "https://localhost:8080/"
        },
        "id": "D9gP7H4fuGIb",
        "outputId": "c2da1c25-2136-4e96-e39e-0949db5aa784"
      },
      "execution_count": null,
      "outputs": [
        {
          "output_type": "stream",
          "name": "stdout",
          "text": [
            "Ada banyak jenis burung.\n",
            "Sebagian besar burung bisa terbang, sebagian kecil tidak.\n",
            "Ada banyak jenis burung.\n",
            "Burung Kakak Tua bisa terbang.\n",
            "Ada banyak jenis burung.\n",
            "Burung Unta tidak bisa terbang.\n"
          ]
        }
      ]
    },
    {
      "cell_type": "markdown",
      "source": [
        "#Encapsulation"
      ],
      "metadata": {
        "id": "ykW3yZS1xKNN"
      }
    },
    {
      "cell_type": "code",
      "source": [
        "\n",
        "# Creating a Base class\n",
        "class Base:\n",
        "\tdef __init__(self):\n",
        "\t\tself.a = \"MySkill\"\n",
        "\t\tself.__c = \"MySkill\"\n",
        "\n",
        "# Creating a derived class\n",
        "class Derived(Base):\n",
        "\tdef __init__(self):\n",
        "\n",
        "\t\t# Calling constructor of\n",
        "\t\t# Base class\n",
        "\t\tBase.__init__(self)\n",
        "\t\tprint(\"Calling private member of base class: \")\n",
        "\t\tprint(self.__c)\n",
        "\n",
        "\n",
        "# Driver code\n",
        "obj1 = Base()\n",
        "print(obj1.a)\n",
        "# print(obj1.c)\n",
        "# Uncommenting print(obj1.c) will\n",
        "# raise an AttributeError\n",
        "\n",
        "# Uncommenting obj2 = Derived() will\n",
        "# also raise an AtrributeError as\n",
        "# private member of base class\n",
        "# is called inside derived class\n"
      ],
      "metadata": {
        "colab": {
          "base_uri": "https://localhost:8080/"
        },
        "id": "7Zp6UAYNvRPQ",
        "outputId": "556fed97-06a0-47da-c27d-2287cfce6001"
      },
      "execution_count": null,
      "outputs": [
        {
          "output_type": "stream",
          "name": "stdout",
          "text": [
            "MySkill\n"
          ]
        }
      ]
    },
    {
      "cell_type": "markdown",
      "source": [
        "# Thank you"
      ],
      "metadata": {
        "id": "lJQOHXDyxtpe"
      }
    },
    {
      "cell_type": "code",
      "source": [],
      "metadata": {
        "id": "_cEn8-rVxQPZ"
      },
      "execution_count": null,
      "outputs": []
    }
  ]
}
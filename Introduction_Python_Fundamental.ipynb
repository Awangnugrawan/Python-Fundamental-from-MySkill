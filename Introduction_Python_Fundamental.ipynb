{
  "nbformat": 4,
  "nbformat_minor": 0,
  "metadata": {
    "colab": {
      "provenance": [],
      "include_colab_link": true
    },
    "kernelspec": {
      "name": "python3",
      "display_name": "Python 3"
    },
    "language_info": {
      "name": "python"
    }
  },
  "cells": [
    {
      "cell_type": "markdown",
      "metadata": {
        "id": "view-in-github",
        "colab_type": "text"
      },
      "source": [
        "<a href=\"https://colab.research.google.com/github/Awangnugrawan/Python-Fundamental-from-MySkill/blob/main/Introduction_Python_Fundamental.ipynb\" target=\"_parent\"><img src=\"https://colab.research.google.com/assets/colab-badge.svg\" alt=\"Open In Colab\"/></a>"
      ]
    },
    {
      "cell_type": "code",
      "source": [],
      "metadata": {
        "id": "mOzvGopqQJ8_"
      },
      "execution_count": null,
      "outputs": []
    },
    {
      "cell_type": "markdown",
      "source": [
        "# Common Data Structure"
      ],
      "metadata": {
        "id": "6FkIx88TcBmf"
      }
    },
    {
      "cell_type": "code",
      "execution_count": 1,
      "metadata": {
        "colab": {
          "base_uri": "https://localhost:8080/"
        },
        "id": "Lx0kEFO7b9lo",
        "outputId": "7f821576-9cf1-4622-f5ac-2a80d748f206"
      },
      "outputs": [
        {
          "output_type": "stream",
          "name": "stdout",
          "text": [
            "[]\n",
            "[1, 2, 3, 'example', 3.14]\n"
          ]
        }
      ],
      "source": [
        "# Lists\n",
        "\n",
        "my_list = [] #create empty list\n",
        "print(my_list)\n",
        "my_list = [1, 2, 3, 'example', 3.14] #creating list with data\n",
        "print(my_list)"
      ]
    },
    {
      "cell_type": "code",
      "source": [
        "# Dictionary\n",
        "my_dict = {'First': 'Python', 'Second': 'Java'}\n",
        "print(my_dict)\n",
        "my_dict['Second'] = 'C++' #changing element\n",
        "print(my_dict)\n",
        "my_dict['Third'] = 'Ruby' #adding key-value pair\n",
        "print(my_dict)"
      ],
      "metadata": {
        "colab": {
          "base_uri": "https://localhost:8080/"
        },
        "id": "sWHhP_Nicjqn",
        "outputId": "e2c1da09-efa5-4d9e-b804-4698d94debc7"
      },
      "execution_count": 2,
      "outputs": [
        {
          "output_type": "stream",
          "name": "stdout",
          "text": [
            "{'First': 'Python', 'Second': 'Java'}\n",
            "{'First': 'Python', 'Second': 'C++'}\n",
            "{'First': 'Python', 'Second': 'C++', 'Third': 'Ruby'}\n"
          ]
        }
      ]
    },
    {
      "cell_type": "code",
      "source": [
        "# Tuple\n",
        "my_tuple = (1, 2, 3, 'myskill') #create tuple\n",
        "print(my_tuple) \n",
        "print(my_tuple[0])\n",
        "print(my_tuple[:])\n",
        "print(my_tuple[3][4])\n"
      ],
      "metadata": {
        "colab": {
          "base_uri": "https://localhost:8080/"
        },
        "id": "WRds9hqsc9-H",
        "outputId": "5830fb28-d77d-454b-f981-c69180ec4e9c"
      },
      "execution_count": 3,
      "outputs": [
        {
          "output_type": "stream",
          "name": "stdout",
          "text": [
            "(1, 2, 3, 'myskill')\n",
            "1\n",
            "(1, 2, 3, 'myskill')\n",
            "i\n"
          ]
        }
      ]
    },
    {
      "cell_type": "code",
      "source": [
        "# Sets\n",
        "my_set = {1, 2, 3, 4, 5, 5, 5} #create set\n",
        "print(my_set)\n",
        "my_set.add(4) #add element to set\n",
        "print(my_set)\n"
      ],
      "metadata": {
        "id": "oLCB1mvcdYem",
        "colab": {
          "base_uri": "https://localhost:8080/"
        },
        "outputId": "8b2d37eb-312e-4e9d-a3d7-282492c3a648"
      },
      "execution_count": 4,
      "outputs": [
        {
          "output_type": "stream",
          "name": "stdout",
          "text": [
            "{1, 2, 3, 4, 5}\n",
            "{1, 2, 3, 4, 5}\n"
          ]
        }
      ]
    },
    {
      "cell_type": "code",
      "source": [
        "my_set = {1, 2, 3, 4}\n",
        "my_set_2 = {3, 4, 5, 6}\n",
        "print(my_set.union(my_set_2), '----------', my_set | my_set_2)\n",
        "print(my_set.intersection(my_set_2), '----------', my_set & my_set_2)\n",
        "print(my_set.difference(my_set_2), '----------', my_set - my_set_2)\n",
        "print(my_set.symmetric_difference(my_set_2), '----------', my_set ^ my_set_2)\n",
        "my_set.clear()\n",
        "print(my_set)\n"
      ],
      "metadata": {
        "colab": {
          "base_uri": "https://localhost:8080/"
        },
        "id": "QG9GEVeKd7pT",
        "outputId": "825eceaf-16d4-49f6-c272-1a8fc85eb3be"
      },
      "execution_count": 5,
      "outputs": [
        {
          "output_type": "stream",
          "name": "stdout",
          "text": [
            "{1, 2, 3, 4, 5, 6} ---------- {1, 2, 3, 4, 5, 6}\n",
            "{3, 4} ---------- {3, 4}\n",
            "{1, 2} ---------- {1, 2}\n",
            "{1, 2, 5, 6} ---------- {1, 2, 5, 6}\n",
            "set()\n"
          ]
        }
      ]
    },
    {
      "cell_type": "markdown",
      "source": [
        "# Conditional Statement"
      ],
      "metadata": {
        "id": "sR7UNjM0eOhu"
      }
    },
    {
      "cell_type": "code",
      "source": [
        "# IF Statement\n",
        "num = 5\n",
        "if num > 0:\n",
        "    print(num, \"is a positive number.\")\n",
        "print(\"This statement is true.\")"
      ],
      "metadata": {
        "colab": {
          "base_uri": "https://localhost:8080/"
        },
        "id": "r3UO38JOd7-8",
        "outputId": "0dc463fe-5fa1-45c4-ab76-8b012e195b35"
      },
      "execution_count": 6,
      "outputs": [
        {
          "output_type": "stream",
          "name": "stdout",
          "text": [
            "5 is a positive number.\n",
            "This statement is true.\n"
          ]
        }
      ]
    },
    {
      "cell_type": "code",
      "source": [
        "# IF Else Statement\n",
        "num = 5\n",
        "if num >= 0:\n",
        "    print(\"Positive or Zero\")\n",
        "else:\n",
        "     print(\"Negative number\")"
      ],
      "metadata": {
        "colab": {
          "base_uri": "https://localhost:8080/"
        },
        "id": "QB1JSi4WezHH",
        "outputId": "3dff003c-946e-4e55-b971-dd4b9db9748f"
      },
      "execution_count": 7,
      "outputs": [
        {
          "output_type": "stream",
          "name": "stdout",
          "text": [
            "Positive or Zero\n"
          ]
        }
      ]
    },
    {
      "cell_type": "code",
      "source": [
        "# IF, Elif, Else Statement\n",
        "num = 0\n",
        "if num > 0:\n",
        "    print(\"Positive number\")\n",
        "elif num == 0:\n",
        "    print(\"Zero\")\n",
        "else:\n",
        "    print(\"Negative number\")"
      ],
      "metadata": {
        "colab": {
          "base_uri": "https://localhost:8080/"
        },
        "id": "Pb3vXO87e5Pj",
        "outputId": "793fef81-ec82-41a7-c865-4134a7c55b3b"
      },
      "execution_count": 8,
      "outputs": [
        {
          "output_type": "stream",
          "name": "stdout",
          "text": [
            "Zero\n"
          ]
        }
      ]
    },
    {
      "cell_type": "code",
      "source": [
        "# IF nested\n",
        "num = 8\n",
        "if num >= 0:\n",
        "    if num == 0:\n",
        "        print(\"zero\")\n",
        "    else:\n",
        "        print(\"Positive number\")\n",
        "else:\n",
        "    print(\"Negative number\")"
      ],
      "metadata": {
        "colab": {
          "base_uri": "https://localhost:8080/"
        },
        "id": "BawBG_BIfBaY",
        "outputId": "dc0fef50-4483-43c4-970d-9d1537767906"
      },
      "execution_count": 9,
      "outputs": [
        {
          "output_type": "stream",
          "name": "stdout",
          "text": [
            "Positive number\n"
          ]
        }
      ]
    },
    {
      "cell_type": "markdown",
      "source": [
        "# Loops"
      ],
      "metadata": {
        "id": "Ji_S7jQrfUX-"
      }
    },
    {
      "cell_type": "code",
      "source": [
        "# While Loop\n",
        "num = 1\n",
        "odd_nums = []\n",
        "while num:\n",
        "    if num % 2 != 0:\n",
        "        odd_nums.append(num)\n",
        "    if num >=20:\n",
        "        break\n",
        "    num += 1\n",
        "print(\"Odd numbers: \", odd_nums)"
      ],
      "metadata": {
        "colab": {
          "base_uri": "https://localhost:8080/"
        },
        "id": "AekaXj1LfGQA",
        "outputId": "436995f6-5056-4299-fdb4-aef46f1d89c0"
      },
      "execution_count": 10,
      "outputs": [
        {
          "output_type": "stream",
          "name": "stdout",
          "text": [
            "Odd numbers:  [1, 3, 5, 7, 9, 11, 13, 15, 17, 19]\n"
          ]
        }
      ]
    },
    {
      "cell_type": "code",
      "source": [
        "# For Loop\n",
        "list = [1, 2, 3, 4, 5]\n",
        "for num in list:\n",
        "    print(num)"
      ],
      "metadata": {
        "colab": {
          "base_uri": "https://localhost:8080/"
        },
        "id": "cnuqb4-BfXMT",
        "outputId": "d766c557-6270-40f9-c7fd-d90318802687"
      },
      "execution_count": 11,
      "outputs": [
        {
          "output_type": "stream",
          "name": "stdout",
          "text": [
            "1\n",
            "2\n",
            "3\n",
            "4\n",
            "5\n"
          ]
        }
      ]
    },
    {
      "cell_type": "markdown",
      "source": [
        "# Function"
      ],
      "metadata": {
        "id": "u5L9Dm2CfvkA"
      }
    },
    {
      "cell_type": "code",
      "source": [
        "# Function with Return\n",
        "def pow(a):\n",
        "  return a**2\n",
        "\n",
        "print(pow(2))\n",
        "power = pow(2)\n",
        "print(power)"
      ],
      "metadata": {
        "colab": {
          "base_uri": "https://localhost:8080/"
        },
        "id": "Ocye-dt0ft3-",
        "outputId": "ceed89f9-9122-4a97-b663-2c0dc96468f4"
      },
      "execution_count": 12,
      "outputs": [
        {
          "output_type": "stream",
          "name": "stdout",
          "text": [
            "4\n",
            "4\n"
          ]
        }
      ]
    },
    {
      "cell_type": "code",
      "source": [
        "def pow(a):\n",
        "  print(a**2)\n",
        "\n",
        "pow(2)"
      ],
      "metadata": {
        "colab": {
          "base_uri": "https://localhost:8080/"
        },
        "id": "2ySEDgvfr3fd",
        "outputId": "560ea5db-10bb-44e2-8a6e-fc90089f869f"
      },
      "execution_count": 13,
      "outputs": [
        {
          "output_type": "stream",
          "name": "stdout",
          "text": [
            "4\n"
          ]
        }
      ]
    }
  ]
}
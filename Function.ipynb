{
  "nbformat": 4,
  "nbformat_minor": 0,
  "metadata": {
    "colab": {
      "provenance": [],
      "toc_visible": true,
      "include_colab_link": true
    },
    "kernelspec": {
      "name": "python3",
      "display_name": "Python 3"
    },
    "language_info": {
      "name": "python"
    }
  },
  "cells": [
    {
      "cell_type": "markdown",
      "metadata": {
        "id": "view-in-github",
        "colab_type": "text"
      },
      "source": [
        "<a href=\"https://colab.research.google.com/github/Awangnugrawan/Python-Fundamental-from-MySkill/blob/main/Function.ipynb\" target=\"_parent\"><img src=\"https://colab.research.google.com/assets/colab-badge.svg\" alt=\"Open In Colab\"/></a>"
      ]
    },
    {
      "cell_type": "markdown",
      "source": [
        "# Python Function"
      ],
      "metadata": {
        "id": "6FkIx88TcBmf"
      }
    },
    {
      "cell_type": "code",
      "source": [
        "# function definition\n",
        "def greet(name):\n",
        "    ''' \n",
        "    fungsi ini menyapa\n",
        "    nama orang yang masuk\n",
        "    sebagai parameter \n",
        "    ''' \n",
        "    print(\"Hello, \" + name + \". Good morning! Welcome to myskill!\")"
      ],
      "metadata": {
        "id": "FD5OVwDqoAce"
      },
      "execution_count": 3,
      "outputs": []
    },
    {
      "cell_type": "code",
      "source": [
        "print(greet.__doc__) #memanggil doc string = string yang menggunakan (''')"
      ],
      "metadata": {
        "colab": {
          "base_uri": "https://localhost:8080/"
        },
        "id": "jvpCeq_ypyN8",
        "outputId": "18075bae-b075-40fc-b184-2a0200fda7c1"
      },
      "execution_count": 4,
      "outputs": [
        {
          "output_type": "stream",
          "name": "stdout",
          "text": [
            " \n",
            "    fungsi ini menyapa\n",
            "    nama orang yang masuk\n",
            "    sebagai parameter \n",
            "    \n"
          ]
        }
      ]
    },
    {
      "cell_type": "code",
      "source": [
        "greet('zaza') #memanggil fungsi"
      ],
      "metadata": {
        "colab": {
          "base_uri": "https://localhost:8080/"
        },
        "id": "wUA-xywxp2LD",
        "outputId": "d4c5e7e7-9be6-4bbd-d647-7facfc4e6eab"
      },
      "execution_count": 5,
      "outputs": [
        {
          "output_type": "stream",
          "name": "stdout",
          "text": [
            "Hello, zaza. Good morning! Welcome to myskill!\n"
          ]
        }
      ]
    },
    {
      "cell_type": "markdown",
      "source": [
        "# Function Arguments"
      ],
      "metadata": {
        "id": "8MfAwXKBxv1c"
      }
    },
    {
      "cell_type": "code",
      "source": [
        "def greet(name, msg):  #dua parameter\n",
        "    \"\"\"Fungsi ini menyapa\n",
        "    orang dengan pesan yang diberikan\"\"\"\n",
        "    print(\"Hello\", name + ', ' + msg)\n",
        "\n",
        "greet(\"Zaza\", \"Good morning!\")"
      ],
      "metadata": {
        "id": "2G9uKP45p42K",
        "colab": {
          "base_uri": "https://localhost:8080/"
        },
        "outputId": "9c242412-2fb0-4ff9-d55f-9677ecfc58c2"
      },
      "execution_count": 6,
      "outputs": [
        {
          "output_type": "stream",
          "name": "stdout",
          "text": [
            "Hello Zaza, Good morning!\n"
          ]
        }
      ]
    },
    {
      "cell_type": "markdown",
      "source": [
        "## Python Default Arguments"
      ],
      "metadata": {
        "id": "aBelpviLyl0B"
      }
    },
    {
      "cell_type": "markdown",
      "source": [
        "Kita dapat memberikan nilai default ke argumen dengan menggunakan operator penugasan (=). Berikut adalah contoh."
      ],
      "metadata": {
        "id": "yfTXj8Xay6ta"
      }
    },
    {
      "cell_type": "code",
      "source": [
        "def greet(name, msg=\"Good morning!\"):\n",
        "    \"\"\"\n",
        "    Fungsi ini menyapa\n",
        "    orang dengan\n",
        "    pesan yang disediakan.\n",
        "\n",
        "    Jika pesan tidak diberikan,\n",
        "    defaultnya adalah \"Good \n",
        "    morning!\"\n",
        "    \"\"\"\n",
        "\n",
        "    print(\"Hello\", name + ', ' + msg)\n",
        "\n",
        "\n",
        "greet(\"Faras\")\n",
        "greet(\"Zaza\", \"Apa kabar\")"
      ],
      "metadata": {
        "colab": {
          "base_uri": "https://localhost:8080/"
        },
        "id": "j4yuryndymcm",
        "outputId": "86ea1a20-80e8-4e9f-b7ca-3762ed302432"
      },
      "execution_count": 8,
      "outputs": [
        {
          "output_type": "stream",
          "name": "stdout",
          "text": [
            "Hello Faras, Good morning!\n",
            "Hello Zaza, Apa kabar\n"
          ]
        }
      ]
    },
    {
      "cell_type": "markdown",
      "source": [
        "Sejumlah argumen dalam suatu fungsi dapat memiliki nilai default. Tetapi begitu kita memiliki argumen default, semua argumen di sebelah kanannya juga harus memiliki nilai default."
      ],
      "metadata": {
        "id": "x1oDyhYPzXEs"
      }
    },
    {
      "cell_type": "markdown",
      "source": [],
      "metadata": {
        "id": "eT0eCACaxoR0"
      }
    },
    {
      "cell_type": "markdown",
      "source": [
        "## Python Keyword Arguments\n"
      ],
      "metadata": {
        "id": "ffOpSpT0zqz8"
      }
    },
    {
      "cell_type": "markdown",
      "source": [
        "Saat kita memanggil fungsi dengan beberapa nilai, nilai-nilai ini ditugaskan ke argumen sesuai dengan posisinya.\n",
        "\n",
        "Sebagai contoh, pada fungsi di atas greet(), ketika kita menyebutnya sebagai greet(\"Bruce\", \"Bagaimana kabarmu?\"), nilai \"Bruce\" diberikan ke name argumen dan juga \"Bagaimana kabarmu? \" ke msg\n",
        "\n",
        "Python memungkinkan fungsi dipanggil menggunakan argumen kata kunci. Ketika kita memanggil fungsi dengan cara ini, urutan (posisi) argumen dapat diubah. Panggilan berikut ke fungsi di atas semuanya valid dan menghasilkan hasil yang sama."
      ],
      "metadata": {
        "id": "jPWNb9fYzsIf"
      }
    },
    {
      "cell_type": "code",
      "source": [
        "# 2 keyword arguments\n",
        "greet(name = \"Zaza\",msg = \"How do you do?\")\n",
        "\n",
        "# 2 keyword arguments (out of order)\n",
        "greet(msg = \"How do you do?\",name = \"Zaza\") \n",
        "\n",
        "# 1 positional, 1 keyword argument\n",
        "greet(\"Zaza\", msg = \"How do you do?\")     "
      ],
      "metadata": {
        "colab": {
          "base_uri": "https://localhost:8080/"
        },
        "id": "9YiemfEyzXp4",
        "outputId": "58d6a09f-1978-4cd9-c330-e59111d56535"
      },
      "execution_count": 7,
      "outputs": [
        {
          "output_type": "stream",
          "name": "stdout",
          "text": [
            "Hello Zaza, How do you do?\n",
            "Hello Zaza, How do you do?\n",
            "Hello Zaza, How do you do?\n"
          ]
        }
      ]
    },
    {
      "cell_type": "markdown",
      "source": [
        " ## Python Arbitrary Arguments"
      ],
      "metadata": {
        "id": "DVASnfSc0bEf"
      }
    },
    {
      "cell_type": "markdown",
      "source": [
        "Terkadang, kita tidak mengetahui terlebih dahulu jumlah argumen yang akan dimasukkan ke dalam suatu fungsi. Python memungkinkan kita untuk menangani situasi semacam ini melalui pemanggilan fungsi dengan sejumlah argumen yang berubah-ubah.\n",
        "\n",
        "Dalam definisi fungsi, kita menggunakan tanda bintang (*) sebelum nama parameter untuk menunjukkan jenis argumen ini. Berikut adalah contoh."
      ],
      "metadata": {
        "id": "X545P-xm0g2A"
      }
    },
    {
      "cell_type": "code",
      "source": [
        "def greet(*names):\n",
        "    \"\"\"Fungsi ini menyapa semua\n",
        "    orang dalam nama tuple.\"\"\"\n",
        "\n",
        "    # names is a tuple with arguments\n",
        "    for name in names:\n",
        "        print(\"Hello\", name)\n",
        "\n",
        "\n",
        "greet(\"A\", \"B\", \"C\", \"D\",5,7)"
      ],
      "metadata": {
        "colab": {
          "base_uri": "https://localhost:8080/"
        },
        "id": "Ipxv7KG80MfF",
        "outputId": "8bdd0e20-2880-441e-f0e3-911fc0570ac8"
      },
      "execution_count": 9,
      "outputs": [
        {
          "output_type": "stream",
          "name": "stdout",
          "text": [
            "Hello A\n",
            "Hello B\n",
            "Hello C\n",
            "Hello D\n",
            "Hello 5\n",
            "Hello 7\n"
          ]
        }
      ]
    },
    {
      "cell_type": "markdown",
      "source": [
        "# Python Recursion"
      ],
      "metadata": {
        "id": "zpqCyanu1j-b"
      }
    },
    {
      "cell_type": "markdown",
      "source": [
        "Berikut ini adalah contoh fungsi rekursif untuk mencari faktorial suatu bilangan bulat.\n",
        "\n",
        "Faktorial suatu bilangan adalah hasil kali semua bilangan bulat dari 1 sampai dengan bilangan tersebut. Misalnya, faktorial dari 6 (dilambangkan dengan 6!) adalah 1x2x3x4x5x6 = 720"
      ],
      "metadata": {
        "id": "_NgqrgPF2Z1O"
      }
    },
    {
      "cell_type": "code",
      "source": [
        "def factorial(x):\n",
        "    \"\"\"Ini adalah fungsi rekursif\n",
        "    untuk menemukan faktorial dari bilangan bulat\"\"\"\n",
        "\n",
        "    if x == 1:\n",
        "        return 1\n",
        "    else:\n",
        "        return x * factorial(x-1)\n",
        "\n",
        "\n",
        "num = 5\n",
        "print(\"Nilai factorial dari\", num, \"adalah\", factorial(num))"
      ],
      "metadata": {
        "colab": {
          "base_uri": "https://localhost:8080/"
        },
        "id": "EmAnwrXG0yT9",
        "outputId": "b98fca01-7c17-4675-cd9b-ba58944a525c"
      },
      "execution_count": 12,
      "outputs": [
        {
          "output_type": "stream",
          "name": "stdout",
          "text": [
            "Nilai factorial dari 5 adalah 120\n"
          ]
        }
      ]
    },
    {
      "cell_type": "markdown",
      "source": [
        "factorial(5)          # 1st call with 5\\\n",
        "5 * factorial(4)      # 2nd call with 4\\\n",
        "5 * 4 * factorial(3)  # 3rd call with 3\\\n",
        "5 * 4 * 3 * factorial(2) #4th call with 2\\\n",
        "5 * 4 * 3 * 2 * factorial(1) #5th call with 1\n",
        "\n",
        "5 * 4 * 3 * 2 * 1     # return = 120\n"
      ],
      "metadata": {
        "id": "dA-pb8Lw210D"
      }
    },
    {
      "cell_type": "markdown",
      "source": [
        "# Anonymous Function"
      ],
      "metadata": {
        "id": "Db5dsocw3ogH"
      }
    },
    {
      "cell_type": "code",
      "source": [
        "# Program to show the use of lambda functions\n",
        "double = lambda x: x * 2\n",
        "\n",
        "print(double(5))"
      ],
      "metadata": {
        "colab": {
          "base_uri": "https://localhost:8080/"
        },
        "id": "00Kvnwji3nxE",
        "outputId": "b6ceb0de-761c-450b-dad5-0f8823eefda1"
      },
      "execution_count": 13,
      "outputs": [
        {
          "output_type": "stream",
          "name": "stdout",
          "text": [
            "10\n"
          ]
        }
      ]
    },
    {
      "cell_type": "markdown",
      "source": [
        "Kita menggunakan fungsi lambda ketika kita membutuhkan fungsi tanpa nama untuk waktu yang singkat.\n",
        "\n",
        "Dalam Python, kita biasanya menggunakannya sebagai argumen ke fungsi tingkat tinggi (fungsi yang menggunakan fungsi lain sebagai argumen). Fungsi Lambda digunakan bersama dengan fungsi bawaan seperti filter(), map() dll."
      ],
      "metadata": {
        "id": "4Vx6k7xl9czH"
      }
    },
    {
      "cell_type": "markdown",
      "source": [
        "Fungsi filter() dalam Python mengambil fungsi dan list sebagai argumen.\n",
        "\n",
        "Fungsi dipanggil dengan semua item dalam list dan list baru dikembalikan yang berisi item yang fungsi dievaluasi ke True.\n",
        "\n",
        "Berikut adalah contoh penggunaan fungsi filter() untuk memfilter hanya angka genap dari list."
      ],
      "metadata": {
        "id": "OrLI47yA9316"
      }
    },
    {
      "cell_type": "code",
      "source": [
        "# Program to filter out only the even items from a list\n",
        "my_list = [1, 5, 4, 6, 8, 11, 3, 12]\n",
        "\n",
        "new_list = list(filter(lambda x: (x%2 == 0) , my_list))\n",
        "\n",
        "print(new_list)"
      ],
      "metadata": {
        "colab": {
          "base_uri": "https://localhost:8080/"
        },
        "id": "4MNvyqpO2lTx",
        "outputId": "7d31ec94-1234-4758-b37f-11b9cf10f252"
      },
      "execution_count": 18,
      "outputs": [
        {
          "output_type": "stream",
          "name": "stdout",
          "text": [
            "[4, 6, 8, 12]\n"
          ]
        }
      ]
    },
    {
      "cell_type": "markdown",
      "source": [
        "Fungsi map() dalam Python mengambil fungsi dan list.\n",
        "\n",
        "Fungsi dipanggil dengan semua item dalam list dan list baru dikembalikan yang berisi item yang dikembalikan oleh fungsi itu untuk setiap item.\n",
        "\n",
        "Berikut adalah contoh penggunaan fungsi map() untuk menggandakan semua item dalam list."
      ],
      "metadata": {
        "id": "yh2CFrOp-ME7"
      }
    },
    {
      "cell_type": "code",
      "source": [
        "# Program to double each item in a list using map()\n",
        "\n",
        "my_list = [1, 5, 4, 6, 8, 11, 3, 12]\n",
        "\n",
        "new_list = list(map(lambda x: x * 2 , my_list))\n",
        "\n",
        "print(new_list)"
      ],
      "metadata": {
        "colab": {
          "base_uri": "https://localhost:8080/"
        },
        "id": "fuXUWHBt-AAm",
        "outputId": "727d8110-2218-421d-a3ec-0040241e9d41"
      },
      "execution_count": 19,
      "outputs": [
        {
          "output_type": "stream",
          "name": "stdout",
          "text": [
            "[2, 10, 8, 12, 16, 22, 6, 24]\n"
          ]
        }
      ]
    },
    {
      "cell_type": "markdown",
      "source": [
        "# Global, Local and Non-Local Variable"
      ],
      "metadata": {
        "id": "xN7oToQH-xey"
      }
    },
    {
      "cell_type": "markdown",
      "source": [
        "## Global Variable and Local Variable"
      ],
      "metadata": {
        "id": "PC0ZKbIR-06-"
      }
    },
    {
      "cell_type": "code",
      "source": [
        "x = \"global\"\n",
        "\n",
        "def foo():\n",
        "    print(\"x dalam:\", x)\n",
        "\n",
        "\n",
        "foo()\n",
        "print(\"x luar:\", x)\n"
      ],
      "metadata": {
        "colab": {
          "base_uri": "https://localhost:8080/"
        },
        "id": "9Pua2fd5-StD",
        "outputId": "5a277ea8-1c7f-442e-fe77-967f0f648d50"
      },
      "execution_count": null,
      "outputs": [
        {
          "output_type": "stream",
          "name": "stdout",
          "text": [
            "x dalam: global\n",
            "x luar: global\n"
          ]
        }
      ]
    },
    {
      "cell_type": "markdown",
      "source": [
        "Dalam kode di atas, kita membuat x sebagai variabel global dan mendefinisikan foo() untuk mencetak variabel global x. Terakhir, kita panggil foo() yang akan mencetak nilai x.\n",
        "\n",
        "Bagaimana jika kita ingin mengubah nilai x di dalam suatu fungsi?"
      ],
      "metadata": {
        "id": "fl1FqKtI_VB8"
      }
    },
    {
      "cell_type": "code",
      "source": [
        "x = \"global\"\n",
        "\n",
        "def foo():\n",
        "    x = x * 2\n",
        "    print(x)\n",
        "\n",
        "foo()"
      ],
      "metadata": {
        "id": "jbIEXjER-3D6",
        "colab": {
          "base_uri": "https://localhost:8080/",
          "height": 329
        },
        "outputId": "d7d8938a-74bd-4a91-d5f5-c1d2dc3c92d3"
      },
      "execution_count": null,
      "outputs": [
        {
          "output_type": "error",
          "ename": "UnboundLocalError",
          "evalue": "ignored",
          "traceback": [
            "\u001b[0;31m---------------------------------------------------------------------------\u001b[0m",
            "\u001b[0;31mUnboundLocalError\u001b[0m                         Traceback (most recent call last)",
            "\u001b[0;32m<ipython-input-8-5bb9d7e58dc3>\u001b[0m in \u001b[0;36m<module>\u001b[0;34m\u001b[0m\n\u001b[1;32m      5\u001b[0m     \u001b[0mprint\u001b[0m\u001b[0;34m(\u001b[0m\u001b[0mx\u001b[0m\u001b[0;34m)\u001b[0m\u001b[0;34m\u001b[0m\u001b[0;34m\u001b[0m\u001b[0m\n\u001b[1;32m      6\u001b[0m \u001b[0;34m\u001b[0m\u001b[0m\n\u001b[0;32m----> 7\u001b[0;31m \u001b[0mfoo\u001b[0m\u001b[0;34m(\u001b[0m\u001b[0;34m)\u001b[0m\u001b[0;34m\u001b[0m\u001b[0;34m\u001b[0m\u001b[0m\n\u001b[0m",
            "\u001b[0;32m<ipython-input-8-5bb9d7e58dc3>\u001b[0m in \u001b[0;36mfoo\u001b[0;34m()\u001b[0m\n\u001b[1;32m      2\u001b[0m \u001b[0;34m\u001b[0m\u001b[0m\n\u001b[1;32m      3\u001b[0m \u001b[0;32mdef\u001b[0m \u001b[0mfoo\u001b[0m\u001b[0;34m(\u001b[0m\u001b[0;34m)\u001b[0m\u001b[0;34m:\u001b[0m\u001b[0;34m\u001b[0m\u001b[0;34m\u001b[0m\u001b[0m\n\u001b[0;32m----> 4\u001b[0;31m     \u001b[0mx\u001b[0m \u001b[0;34m=\u001b[0m \u001b[0mx\u001b[0m \u001b[0;34m*\u001b[0m \u001b[0;36m2\u001b[0m\u001b[0;34m\u001b[0m\u001b[0;34m\u001b[0m\u001b[0m\n\u001b[0m\u001b[1;32m      5\u001b[0m     \u001b[0mprint\u001b[0m\u001b[0;34m(\u001b[0m\u001b[0mx\u001b[0m\u001b[0;34m)\u001b[0m\u001b[0;34m\u001b[0m\u001b[0;34m\u001b[0m\u001b[0m\n\u001b[1;32m      6\u001b[0m \u001b[0;34m\u001b[0m\u001b[0m\n",
            "\u001b[0;31mUnboundLocalError\u001b[0m: local variable 'x' referenced before assignment"
          ]
        }
      ]
    },
    {
      "cell_type": "markdown",
      "source": [
        "Jadi pada code diatas akan menghasilkan error (local variable 'x' referenced before assignment) ini karena variabel (x) nya di definisikan ulang sebagai lokal dalam suatu function, padahal variabel (x) telah di definisikan sebagai variabel global di luar function sehingga menyebabkan error. Dan untuk cara mengatasinya menggunakan keyword **global** di dalam suatu function seperti cara di bawah ini:"
      ],
      "metadata": {
        "id": "AmY8tLNqV823"
      }
    },
    {
      "cell_type": "code",
      "source": [
        "x = \"global\"\n",
        "\n",
        "def foo():\n",
        "    global x\n",
        "    x = x * 2\n",
        "    print(x)\n",
        "\n",
        "foo()"
      ],
      "metadata": {
        "colab": {
          "base_uri": "https://localhost:8080/"
        },
        "id": "IoZJ8A6A_b_-",
        "outputId": "8cefc3e0-3610-4647-e252-dc08bbf182e0"
      },
      "execution_count": 20,
      "outputs": [
        {
          "output_type": "stream",
          "name": "stdout",
          "text": [
            "globalglobal\n"
          ]
        }
      ]
    },
    {
      "cell_type": "code",
      "source": [
        "x = \"global \"\n",
        "\n",
        "def foo():\n",
        "    global x\n",
        "    y = \"local\"\n",
        "    x = x * 2\n",
        "    print(x)\n",
        "    print(y)\n",
        "\n",
        "foo()"
      ],
      "metadata": {
        "colab": {
          "base_uri": "https://localhost:8080/"
        },
        "id": "4ni2PXJp_ulK",
        "outputId": "1f0b8d87-bd4e-4ebf-eca3-dcc8c63da665"
      },
      "execution_count": 21,
      "outputs": [
        {
          "output_type": "stream",
          "name": "stdout",
          "text": [
            "global global \n",
            "local\n"
          ]
        }
      ]
    },
    {
      "cell_type": "markdown",
      "source": [
        "## Non-Local Variable"
      ],
      "metadata": {
        "id": "45n5X_Z2ET8a"
      }
    },
    {
      "cell_type": "code",
      "source": [
        "def outer():\n",
        "    x = \"local\"\n",
        "\n",
        "    def inner():\n",
        "        nonlocal x\n",
        "        x = \"nonlocal\"\n",
        "        print(\"inner:\", x)\n",
        "\n",
        "    inner()\n",
        "    print(\"outer:\", x)\n",
        "\n",
        "\n",
        "outer()"
      ],
      "metadata": {
        "colab": {
          "base_uri": "https://localhost:8080/"
        },
        "id": "8fKniSXFB1c0",
        "outputId": "d399c7cd-2339-4ebd-c885-5bfa7ba69eb7"
      },
      "execution_count": null,
      "outputs": [
        {
          "output_type": "stream",
          "name": "stdout",
          "text": [
            "inner: nonlocal\n",
            "outer: nonlocal\n"
          ]
        }
      ]
    },
    {
      "cell_type": "markdown",
      "source": [
        "# Thank you"
      ],
      "metadata": {
        "id": "UotsqBTjEaYb"
      }
    }
  ]
}